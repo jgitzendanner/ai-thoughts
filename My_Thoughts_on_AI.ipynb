{
  "nbformat": 4,
  "nbformat_minor": 0,
  "metadata": {
    "colab": {
      "provenance": [],
      "authorship_tag": "ABX9TyMMkeNGpyil1566uMcsiux1",
      "include_colab_link": true
    },
    "kernelspec": {
      "name": "python3",
      "display_name": "Python 3"
    },
    "language_info": {
      "name": "python"
    }
  },
  "cells": [
    {
      "cell_type": "markdown",
      "metadata": {
        "id": "view-in-github",
        "colab_type": "text"
      },
      "source": [
        "<a href=\"https://colab.research.google.com/github/jgitzendanner/ai-thoughts/blob/main/My_Thoughts_on_AI.ipynb\" target=\"_parent\"><img src=\"https://colab.research.google.com/assets/colab-badge.svg\" alt=\"Open In Colab\"/></a>"
      ]
    },
    {
      "cell_type": "markdown",
      "source": [
        "# ai-thoughts\n",
        "A repo to organize information and thoughts on AI\n",
        "\n",
        "## Things I want to do with AI\n",
        "\n",
        "* Have fun\n",
        "* Take over the world\n",
        "* Model fluid dynamics\n"
      ],
      "metadata": {
        "id": "zOuiIJlWPDQT"
      }
    }
  ]
}